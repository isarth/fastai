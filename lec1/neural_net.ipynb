{
 "cells": [
  {
   "cell_type": "code",
   "execution_count": 150,
   "metadata": {},
   "outputs": [],
   "source": [
    "import numpy as np\n",
    "import matplotlib.pyplot as plt\n",
    "import seaborn as sns"
   ]
  },
  {
   "cell_type": "code",
   "execution_count": 141,
   "metadata": {
    "run_control": {
     "marked": true
    }
   },
   "outputs": [],
   "source": [
    "n_inp,n_out,n_hidden= 10,10,5\n",
    "n=100\n",
    "lr=1e-3\n",
    "data=np.random.rand(n,n_inp)"
   ]
  },
  {
   "cell_type": "code",
   "execution_count": 142,
   "metadata": {
    "run_control": {
     "marked": true
    }
   },
   "outputs": [],
   "source": [
    "def loss(pred,trg):\n",
    "    return np.sum((trg-pred)**2)/pred.shape[0]"
   ]
  },
  {
   "cell_type": "code",
   "execution_count": 143,
   "metadata": {},
   "outputs": [],
   "source": [
    "def sig(x):\n",
    "    return np.exp(x) / (np.exp(x) + 1)\n",
    "def back_sig(x):\n",
    "    return sig(x)*(1-sig(x))"
   ]
  },
  {
   "cell_type": "code",
   "execution_count": 146,
   "metadata": {},
   "outputs": [],
   "source": [
    "class NN():\n",
    "    def __init__(self,lr=1e-3,n=100):\n",
    "        self.weights()\n",
    "        self.lr=lr\n",
    "        self.losses=[]\n",
    "        self.epochs=n\n",
    "    def weights(self):\n",
    "        self.W_inp=np.random.randn(n_inp,n_hidden)\n",
    "        self.W_h=np.random.randn(n_hidden,n_hidden)\n",
    "        self.W_out=np.random.randn(n_hidden,n_out)\n",
    "    def forward(self,x):\n",
    "        self.inp1=sig(x.dot(self.W_inp))\n",
    "        self.inp2=sig(self.inp1.dot(self.W_h))\n",
    "        self.inp3=sig(self.inp2.dot(self.W_out))\n",
    "        return self.inp3\n",
    "    def backward(self,x):\n",
    "        dl_inp3=2*(self.inp3-x) \n",
    "        dl_W_out=(self.inp2.T).dot(dl_inp3*back_sig(self.inp2.dot(self.W_out)))\n",
    "        dl_inp2=(dl_inp3*back_sig(self.inp2.dot(self.W_out))).dot(self.W_out.T)\n",
    "        dl_W_h=(self.inp1.T).dot(back_sig(dl_inp2))\n",
    "        dl_inp1=back_sig(dl_inp2).dot(self.W_h.T)\n",
    "        dl_W_inp=x.T.dot(back_sig(dl_inp1))\n",
    "        return dl_W_out,dl_W_h,dl_W_inp\n",
    "    def train(self,x):\n",
    "        for e in range(self.epochs):\n",
    "            l=loss(self.forward(x),x)\n",
    "            self.losses.append(l)\n",
    "            dl_W_out,dl_W_h,dl_W_inp=self.backward(x)\n",
    "            self.W_inp= self.W_inp - lr*dl_W_inp\n",
    "            self.W_h=self.W_h - lr*dl_W_h\n",
    "            self.W_out=self.W_out - lr*dl_W_out"
   ]
  },
  {
   "cell_type": "code",
   "execution_count": 147,
   "metadata": {},
   "outputs": [],
   "source": [
    "model=NN()"
   ]
  },
  {
   "cell_type": "code",
   "execution_count": 148,
   "metadata": {},
   "outputs": [],
   "source": [
    "model.train(data)"
   ]
  },
  {
   "cell_type": "code",
   "execution_count": 151,
   "metadata": {},
   "outputs": [
    {
     "data": {
      "text/plain": [
       "[<matplotlib.lines.Line2D at 0x10e3c3c88>]"
      ]
     },
     "execution_count": 151,
     "metadata": {},
     "output_type": "execute_result"
    },
    {
     "data": {
      "image/png": "[encoded data removed]",
      "text/plain": [
       "<Figure size 432x288 with 1 Axes>"
      ]
     },
     "metadata": {},
     "output_type": "display_data"
    }
   ],
   "source": [
    "sns.set(color_codes=True)\n",
    "plt.plot(model.losses)"
   ]
  },
  {
   "cell_type": "code",
   "execution_count": 168,
   "metadata": {},
   "outputs": [],
   "source": [
    "class linear():\n",
    "    def __init__(self,inp,out):\n",
    "        self.W=np.random.randn(inp,out)\n",
    "    def forward(self,x):\n",
    "        self.x=x\n",
    "        return x.dot(self.W)\n",
    "    def backward(self,in_grad):\n",
    "        dl_w=(self.x.T).dot(in_grad)\n",
    "        dl_x=in_grad.dot(self.W.T)\n",
    "        return dl_w,dl_x"
   ]
  },
  {
   "cell_type": "code",
   "execution_count": 217,
   "metadata": {},
   "outputs": [],
   "source": [
    "class NN2():\n",
    "    def __init__(self,n_inp,n_hidden,n_out):\n",
    "        self.lay1=linear(n_inp,n_hidden)\n",
    "        self.lay2=linear(n_hidden,n_hidden)\n",
    "        self.lay3=linear(n_hidden,n_out)\n",
    "        self.losses=[]\n",
    "    def forward(self,x):\n",
    "        return self.lay3.forward(self.lay2.forward(self.lay1.forward(x)))\n",
    "    def backward(self,output,trg):\n",
    "        grd=2*(output-trg)/output.shape[0]\n",
    "        dl_w_ly3,dl_x_ly3=self.lay3.backward(grd)\n",
    "        dl_w_ly2,dl_x_ly2=self.lay2.backward(dl_x_ly3)\n",
    "        dl_w_ly1,dl_x_ly1=self.lay1.backward(dl_x_ly2)\n",
    "        return dl_w_ly3,dl_w_ly2,dl_w_ly1\n",
    "    def train(self,x,y,epochs=100,lr=1e-3):\n",
    "        for e in range(epochs):\n",
    "            l=loss(self.forward(x),y)\n",
    "            self.losses.append(l)\n",
    "            dl_W_out,dl_W_h,dl_W_inp=self.backward(self.forward(x),y)\n",
    "            #print(dl_W_out,dl_W_h,dl_W_inp)\n",
    "            self.lay1.W -= lr*dl_W_inp\n",
    "            self.lay2.W -= lr*dl_W_h\n",
    "            self.lay3.W -= lr*dl_W_out\n",
    "    def plot(self):\n",
    "        import seaborn as sns\n",
    "        sns.set(color_codes=True)\n",
    "        plt.figure(figsize=(10,6))\n",
    "        plt.plot(self.losses)"
   ]
  },
  {
   "cell_type": "code",
   "execution_count": 218,
   "metadata": {},
   "outputs": [],
   "source": [
    "m=NN2(n_inp,n_hidden,n_out)"
   ]
  },
  {
   "cell_type": "code",
   "execution_count": 219,
   "metadata": {},
   "outputs": [
    {
     "data": {
      "image/png": "[encoded data removed]",
      "text/plain": [
       "<Figure size 720x432 with 1 Axes>"
      ]
     },
     "metadata": {},
     "output_type": "display_data"
    }
   ],
   "source": [
    "m.train(data,data)\n",
    "m.plot()"
   ]
  }
 ],
 "metadata": {
  "kernelspec": {
   "display_name": "Python 3",
   "language": "python",
   "name": "python3"
  },
  "language_info": {
   "codemirror_mode": {
    "name": "ipython",
    "version": 3
   },
   "file_extension": ".py",
   "mimetype": "text/x-python",
   "name": "python",
   "nbconvert_exporter": "python",
   "pygments_lexer": "ipython3",
   "version": "3.6.5"
  },
  "latex_envs": {
   "LaTeX_envs_menu_present": true,
   "autoclose": true,
   "autocomplete": true,
   "bibliofile": "biblio.bib",
   "cite_by": "apalike",
   "current_citInitial": 1,
   "eqLabelWithNumbers": true,
   "eqNumInitial": 1,
   "hotkeys": {
    "equation": "Ctrl-E",
    "itemize": "Ctrl-I"
   },
   "labels_anchors": false,
   "latex_user_defs": false,
   "report_style_numbering": false,
   "user_envs_cfg": false
  }
 },
 "nbformat": 4,
 "nbformat_minor": 2
}
