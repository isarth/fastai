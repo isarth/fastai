{
 "cells": [
  {
   "cell_type": "code",
   "execution_count": 1,
   "metadata": {},
   "outputs": [],
   "source": [
    "import os\n",
    "import numpy as np"
   ]
  },
  {
   "cell_type": "code",
   "execution_count": 2,
   "metadata": {},
   "outputs": [],
   "source": [
    "import pandas as pd"
   ]
  },
  {
   "cell_type": "code",
   "execution_count": 3,
   "metadata": {},
   "outputs": [],
   "source": [
    "from datetime import datetime "
   ]
  },
  {
   "cell_type": "code",
   "execution_count": 4,
   "metadata": {},
   "outputs": [],
   "source": [
    "names=['names0.npy','names100000.npy']\n",
    "images=['images_features0.npy','images_features100000.npy']"
   ]
  },
  {
   "cell_type": "code",
   "execution_count": 5,
   "metadata": {},
   "outputs": [],
   "source": [
    "test_features=np.load('../result/test-images_features0.npy')\n",
    "test_names=np.load('../result/test-names0.npy')"
   ]
  },
  {
   "cell_type": "code",
   "execution_count": 6,
   "metadata": {},
   "outputs": [],
   "source": [
    "def similar_index(feature_vectors,names,inpt):\n",
    "    index_dist=[]\n",
    "    for ix in range(feature_vectors.shape[0]):\n",
    "        try:\n",
    "            dist=sum((feature_vectors[ix]-inpt)**2)\n",
    "            index_dist.append([dist,names[ix]])\n",
    "            #print (dist)\n",
    "        except:\n",
    "            pass\n",
    "            #print (feature_vectors[ix])\n",
    "    return sorted(index_dist)[:7]"
   ]
  },
  {
   "cell_type": "code",
   "execution_count": 7,
   "metadata": {},
   "outputs": [],
   "source": [
    "def ans(test,images,names):\n",
    "    result=[]\n",
    "    for ix in range(len(names)):\n",
    "        features=np.load('../result/'+images[ix],encoding='bytes')\n",
    "        hu=np.load('../result/'+names[ix])\n",
    "        result+=similar_index(features,hu,test)\n",
    "    return sorted(result)[:7]"
   ]
  },
  {
   "cell_type": "code",
   "execution_count": null,
   "metadata": {
    "scrolled": true
   },
   "outputs": [],
   "source": [
    "ds=[]\n",
    "for ix in range(700,750):\n",
    "    dx=[test_names[ix][:-4]]\n",
    "    t1=datetime.now()\n",
    "    s=ans(test_features[ix],images,names)\n",
    "    for i in range(7):\n",
    "        dx.append(str(s[i][1])[2:-5])\n",
    "    ds.append(dx)\n",
    "    t2=datetime.now()\n",
    "    \n",
    "    print (ix,t2-t1)"
   ]
  },
  {
   "cell_type": "code",
   "execution_count": null,
   "metadata": {},
   "outputs": [],
   "source": [
    "x=pd.DataFrame(ds)"
   ]
  },
  {
   "cell_type": "code",
   "execution_count": null,
   "metadata": {},
   "outputs": [],
   "source": [
    "x.to_csv('ans700-750.csv',header=False,index=False)"
   ]
  },
  {
   "cell_type": "code",
   "execution_count": null,
   "metadata": {},
   "outputs": [],
   "source": [
    "test_names[0]"
   ]
  },
  {
   "cell_type": "code",
   "execution_count": null,
   "metadata": {},
   "outputs": [],
   "source": []
  },
  {
   "cell_type": "code",
   "execution_count": null,
   "metadata": {},
   "outputs": [],
   "source": []
  },
  {
   "cell_type": "code",
   "execution_count": null,
   "metadata": {},
   "outputs": [],
   "source": []
  }
 ],
 "metadata": {
  "kernelspec": {
   "display_name": "Python 3",
   "language": "python",
   "name": "python3"
  },
  "language_info": {
   "codemirror_mode": {
    "name": "ipython",
    "version": 3
   },
   "file_extension": ".py",
   "mimetype": "text/x-python",
   "name": "python",
   "nbconvert_exporter": "python",
   "pygments_lexer": "ipython3",
   "version": "3.6.4"
  }
 },
 "nbformat": 4,
 "nbformat_minor": 2
}
