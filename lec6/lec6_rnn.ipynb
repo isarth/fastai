{
 "cells": [
  {
   "cell_type": "code",
   "execution_count": 1,
   "metadata": {},
   "outputs": [],
   "source": [
    "from fastai import *\n",
    "from fastai.column_data import *\n",
    "from fastai import conv_learner\n",
    "import numpy as np\n",
    "import pandas as pd\n",
    "from fastai.io import *\n",
    "import torch\n",
    "from torch import nn\n",
    "from torch.nn import functional as F"
   ]
  },
  {
   "cell_type": "code",
   "execution_count": 2,
   "metadata": {},
   "outputs": [],
   "source": [
    "PATH='nietzsche.txt'"
   ]
  },
  {
   "cell_type": "code",
   "execution_count": 3,
   "metadata": {},
   "outputs": [
    {
     "name": "stdout",
     "output_type": "stream",
     "text": [
      "600893\n"
     ]
    }
   ],
   "source": [
    "txt=open(PATH).read()\n",
    "print (len(txt))"
   ]
  },
  {
   "cell_type": "code",
   "execution_count": 4,
   "metadata": {
    "scrolled": true
   },
   "outputs": [
    {
     "name": "stdout",
     "output_type": "stream",
     "text": [
      "Total chars are 85\n"
     ]
    }
   ],
   "source": [
    "chars=sorted(list(set(txt)))\n",
    "chars.insert(0,\"\\0\")\n",
    "print (f\"Total chars are {len(chars)}\")\n",
    "vocab_size=len(chars)"
   ]
  },
  {
   "cell_type": "code",
   "execution_count": 5,
   "metadata": {
    "scrolled": true
   },
   "outputs": [],
   "source": [
    "chars_id={ch:i for i,ch in enumerate(chars)}\n",
    "id_chars={i:ch for i,ch in enumerate(chars)}"
   ]
  },
  {
   "cell_type": "code",
   "execution_count": 6,
   "metadata": {},
   "outputs": [],
   "source": [
    "idx=[chars_id[ix] for ix in txt ]"
   ]
  },
  {
   "cell_type": "code",
   "execution_count": 7,
   "metadata": {},
   "outputs": [
    {
     "data": {
      "text/plain": [
       "[40, 42, 29, 30, 25, 27, 29, 1, 1, 1]"
      ]
     },
     "execution_count": 7,
     "metadata": {},
     "output_type": "execute_result"
    }
   ],
   "source": [
    "idx[:10]"
   ]
  },
  {
   "cell_type": "code",
   "execution_count": 9,
   "metadata": {},
   "outputs": [],
   "source": [
    "cs=3\n",
    "x1=[idx[ix] for ix in range(0,len(txt)-cs,cs)]\n",
    "x2=[idx[ix+1] for ix in range(0,len(txt)-cs,cs)]\n",
    "x3=[idx[ix+2] for ix in range(0,len(txt)-cs,cs)]\n",
    "x4=[idx[ix+3] for ix in range(0,len(txt)-cs,cs)]"
   ]
  },
  {
   "cell_type": "code",
   "execution_count": 10,
   "metadata": {
    "scrolled": true
   },
   "outputs": [
    {
     "data": {
      "text/plain": [
       "[40, 30, 29, 1, 40, 43, 31, 61, 2, 74]"
      ]
     },
     "execution_count": 10,
     "metadata": {},
     "output_type": "execute_result"
    }
   ],
   "source": [
    "x1[:10]"
   ]
  },
  {
   "cell_type": "code",
   "execution_count": 11,
   "metadata": {},
   "outputs": [],
   "source": [
    "inp1=np.array(x1[:-2])\n",
    "inp2=np.array(x2[:-2])\n",
    "inp3=np.array(x3[:-2])\n",
    "\n",
    "out=np.array(x4[:-2])"
   ]
  },
  {
   "cell_type": "code",
   "execution_count": 12,
   "metadata": {
    "scrolled": true
   },
   "outputs": [
    {
     "data": {
      "text/plain": [
       "(200295,)"
      ]
     },
     "execution_count": 12,
     "metadata": {},
     "output_type": "execute_result"
    }
   ],
   "source": [
    "inp1.shape"
   ]
  },
  {
   "cell_type": "code",
   "execution_count": 8,
   "metadata": {},
   "outputs": [],
   "source": [
    "n_hidden=256\n",
    "n_fac =42"
   ]
  },
  {
   "cell_type": "code",
   "execution_count": 26,
   "metadata": {},
   "outputs": [],
   "source": [
    "class char3model(nn.Module):\n",
    "    def __init__(self,n_hidden,n_fac):\n",
    "        super().__init__()\n",
    "        self.e=nn.Embedding(vocab_size,n_fac)\n",
    "        self.l_in= nn.Linear(n_fac,n_hidden)\n",
    "        self.l_hidden=nn.Linear(n_hidden,n_hidden)\n",
    "        self.out=nn.Linear(n_hidden,vocab_size)\n",
    "        \n",
    "    def forward(self,c1,c2,c3):\n",
    "        inp1=F.relu(self.l_in(self.e(c1)))\n",
    "        inp2=F.relu(self.l_in(self.e(c2)))\n",
    "        inp3=F.relu(self.l_in(self.e(c3)))\n",
    "        h=V(torch.zeros(inp1.size()))\n",
    "        h=F.tanh(self.l_hidden(inp1+h))\n",
    "        h=F.tanh(self.l_hidden(h+inp2))\n",
    "        h=F.tanh(self.l_hidden(h+inp3))\n",
    "        out=self.out(h)\n",
    "        return F.log_softmax(out)"
   ]
  },
  {
   "cell_type": "code",
   "execution_count": 9,
   "metadata": {},
   "outputs": [
    {
     "ename": "NameError",
     "evalue": "name 'inp1' is not defined",
     "output_type": "error",
     "traceback": [
      "\u001b[0;31m---------------------------------------------------------------------------\u001b[0m",
      "\u001b[0;31mNameError\u001b[0m                                 Traceback (most recent call last)",
      "\u001b[0;32m<ipython-input-9-42c03c721a7c>\u001b[0m in \u001b[0;36m<module>\u001b[0;34m()\u001b[0m\n\u001b[0;32m----> 1\u001b[0;31m \u001b[0mmd\u001b[0m\u001b[0;34m=\u001b[0m\u001b[0mColumnarModelData\u001b[0m\u001b[0;34m.\u001b[0m\u001b[0mfrom_arrays\u001b[0m\u001b[0;34m(\u001b[0m\u001b[0;34m'.'\u001b[0m\u001b[0;34m,\u001b[0m\u001b[0;34m[\u001b[0m\u001b[0;34m-\u001b[0m\u001b[0;36m1\u001b[0m\u001b[0;34m]\u001b[0m\u001b[0;34m,\u001b[0m\u001b[0mnp\u001b[0m\u001b[0;34m.\u001b[0m\u001b[0mstack\u001b[0m\u001b[0;34m(\u001b[0m\u001b[0;34m[\u001b[0m\u001b[0minp1\u001b[0m\u001b[0;34m,\u001b[0m\u001b[0minp2\u001b[0m\u001b[0;34m,\u001b[0m\u001b[0minp3\u001b[0m\u001b[0;34m]\u001b[0m\u001b[0;34m,\u001b[0m\u001b[0maxis\u001b[0m\u001b[0;34m=\u001b[0m\u001b[0;36m1\u001b[0m\u001b[0;34m)\u001b[0m\u001b[0;34m,\u001b[0m\u001b[0mout\u001b[0m\u001b[0;34m,\u001b[0m\u001b[0mbs\u001b[0m\u001b[0;34m=\u001b[0m\u001b[0;36m32\u001b[0m\u001b[0;34m)\u001b[0m\u001b[0;34m\u001b[0m\u001b[0m\n\u001b[0m",
      "\u001b[0;31mNameError\u001b[0m: name 'inp1' is not defined"
     ]
    }
   ],
   "source": [
    "md=ColumnarModelData.from_arrays('.',[-1],np.stack([inp1,inp2,inp3],axis=1),out,bs=32) "
   ]
  },
  {
   "cell_type": "code",
   "execution_count": 33,
   "metadata": {},
   "outputs": [],
   "source": [
    "m= char3model(n_hidden,n_fac)"
   ]
  },
  {
   "cell_type": "code",
   "execution_count": 34,
   "metadata": {},
   "outputs": [],
   "source": [
    "opt=torch.optim.Adam(m.parameters(),1e-2)"
   ]
  },
  {
   "cell_type": "code",
   "execution_count": 35,
   "metadata": {},
   "outputs": [
    {
     "data": {
      "application/vnd.jupyter.widget-view+json": {
       "model_id": "7a8e2f6a576f412f8e347e01c00a7c02",
       "version_major": 2,
       "version_minor": 0
      },
      "text/plain": [
       "HBox(children=(IntProgress(value=0, description='Epoch', max=1), HTML(value='')))"
      ]
     },
     "metadata": {},
     "output_type": "display_data"
    },
    {
     "name": "stdout",
     "output_type": "stream",
     "text": [
      "epoch      trn_loss   val_loss                                \n",
      "    0      3.260534   6.292563  \n",
      "\n"
     ]
    },
    {
     "data": {
      "text/plain": [
       "[array([6.29256])]"
      ]
     },
     "execution_count": 35,
     "metadata": {},
     "output_type": "execute_result"
    }
   ],
   "source": [
    "fit(m,md,1,opt,F.nll_loss)"
   ]
  },
  {
   "cell_type": "code",
   "execution_count": 31,
   "metadata": {},
   "outputs": [
    {
     "data": {
      "application/vnd.jupyter.widget-view+json": {
       "model_id": "9aa0b5c5fc15458d8d063bdb4cdb1664",
       "version_major": 2,
       "version_minor": 0
      },
      "text/plain": [
       "HBox(children=(IntProgress(value=0, description='Epoch', max=1), HTML(value='')))"
      ]
     },
     "metadata": {},
     "output_type": "display_data"
    },
    {
     "name": "stdout",
     "output_type": "stream",
     "text": [
      "epoch      trn_loss   val_loss                                \n",
      "    0      2.537892   6.492347  \n",
      "\n"
     ]
    },
    {
     "data": {
      "text/plain": [
       "[array([6.49235])]"
      ]
     },
     "execution_count": 31,
     "metadata": {},
     "output_type": "execute_result"
    }
   ],
   "source": [
    "set_lrs(opt,1e-3)\n",
    "fit(m,md,1,opt,F.nll_loss)"
   ]
  },
  {
   "cell_type": "code",
   "execution_count": 42,
   "metadata": {},
   "outputs": [],
   "source": [
    "it=iter(md.trn_dl)\n",
    "*xs,ys=next(it)"
   ]
  },
  {
   "cell_type": "code",
   "execution_count": 45,
   "metadata": {},
   "outputs": [
    {
     "data": {
      "text/plain": [
       "3"
      ]
     },
     "execution_count": 45,
     "metadata": {},
     "output_type": "execute_result"
    }
   ],
   "source": [
    "len(xs)"
   ]
  },
  {
   "cell_type": "code",
   "execution_count": 113,
   "metadata": {},
   "outputs": [],
   "source": [
    "def test(ts):\n",
    "    assert(len(ts)==3),\"3 characters req\"\n",
    "    ex=[V(T(chars_id[ch])) for ch in ts]\n",
    "    idx=to_np(m(ex[0],ex[1],ex[2])).argmax()\n",
    "    return id_chars[idx]"
   ]
  },
  {
   "cell_type": "code",
   "execution_count": 118,
   "metadata": {},
   "outputs": [
    {
     "data": {
      "text/plain": [
       "'a'"
      ]
     },
     "execution_count": 118,
     "metadata": {},
     "output_type": "execute_result"
    }
   ],
   "source": [
    "test(\"mor\")"
   ]
  },
  {
   "cell_type": "code",
   "execution_count": 158,
   "metadata": {},
   "outputs": [],
   "source": [
    "cs=10\n",
    "xs=np.array([idx[ix:cs+ix] for ix in range(0,len(idx)-cs)])"
   ]
  },
  {
   "cell_type": "code",
   "execution_count": 159,
   "metadata": {},
   "outputs": [],
   "source": [
    "x=xs[:,:9]\n",
    "y=xs[:,9]"
   ]
  },
  {
   "cell_type": "code",
   "execution_count": 160,
   "metadata": {},
   "outputs": [
    {
     "data": {
      "text/plain": [
       "(600883,)"
      ]
     },
     "execution_count": 160,
     "metadata": {},
     "output_type": "execute_result"
    }
   ],
   "source": [
    "y.shape"
   ]
  },
  {
   "cell_type": "code",
   "execution_count": 163,
   "metadata": {},
   "outputs": [
    {
     "data": {
      "text/plain": [
       "[array([40, 42, 29, ..., 68, 59,  2]),\n",
       " array([42, 29, 30, ..., 59,  2, 72]),\n",
       " array([29, 30, 25, ...,  2, 72, 62]),\n",
       " array([30, 25, 27, ..., 72, 62, 67]),\n",
       " array([25, 27, 29, ..., 62, 67, 59]),\n",
       " array([27, 29,  1, ..., 67, 59, 74]),\n",
       " array([29,  1,  1, ..., 59, 74, 65]),\n",
       " array([ 1,  1,  1, ..., 74, 65, 67]),\n",
       " array([ 1,  1, 43, ..., 65, 67, 58])]"
      ]
     },
     "execution_count": 163,
     "metadata": {},
     "output_type": "execute_result"
    }
   ],
   "source": [
    "md.trn_ds.xs"
   ]
  },
  {
   "cell_type": "code",
   "execution_count": 196,
   "metadata": {},
   "outputs": [
    {
     "data": {
      "text/plain": [
       "array([40, 42, 29, 30, 25, 27, 29,  1,  1])"
      ]
     },
     "execution_count": 196,
     "metadata": {},
     "output_type": "execute_result"
    }
   ],
   "source": [
    "x[0]"
   ]
  },
  {
   "cell_type": "code",
   "execution_count": 165,
   "metadata": {},
   "outputs": [],
   "source": [
    "d=iter(md.trn_dl)\n",
    "*k,l=next(d)"
   ]
  },
  {
   "cell_type": "code",
   "execution_count": 175,
   "metadata": {},
   "outputs": [
    {
     "name": "stdout",
     "output_type": "stream",
     "text": [
      "erness and"
     ]
    }
   ],
   "source": [
    "*k,l=next(d)\n",
    "for n in range(len(k)):\n",
    "    print (id_chars[k[n][0]],end='')\n",
    "print (id_chars[l[0]],end='')"
   ]
  },
  {
   "cell_type": "code",
   "execution_count": 162,
   "metadata": {},
   "outputs": [],
   "source": [
    "md=ColumnarModelData.from_arrays('.',[-1],x,y,bs=512)"
   ]
  },
  {
   "cell_type": "code",
   "execution_count": 13,
   "metadata": {},
   "outputs": [],
   "source": [
    "class char_loop(nn.Module):\n",
    "    def __init__(self,vocab_size,n_hidden,n_fac):\n",
    "        super().__init__()\n",
    "        self.e=nn.Embedding(vocab_size,n_fac)\n",
    "        self.l_in=nn.Linear(n_fac,n_hidden)\n",
    "        self.l_hidden=nn.Linear(n_hidden,n_hidden)\n",
    "        self.l_out=nn.Linear(n_hidden,vocab_size)\n",
    "    \n",
    "    def forward(self,*cs):\n",
    "        bs = cs[0].size(0)\n",
    "        h = V(torch.zeros(bs, n_hidden))\n",
    "        for c in cs:\n",
    "            inp = F.relu(self.l_in(self.e(c)))\n",
    "            h = F.tanh(self.l_hidden(h+inp))\n",
    "        \n",
    "        return F.log_softmax(self.l_out(h), dim=-1)"
   ]
  },
  {
   "cell_type": "code",
   "execution_count": 15,
   "metadata": {},
   "outputs": [
    {
     "data": {
      "application/vnd.jupyter.widget-view+json": {
       "model_id": "6c16d3e323874cfa9c57f03372d48c60",
       "version_major": 2,
       "version_minor": 0
      },
      "text/plain": [
       "HBox(children=(IntProgress(value=0, description='Epoch', max=1), HTML(value='')))"
      ]
     },
     "metadata": {},
     "output_type": "display_data"
    },
    {
     "name": "stdout",
     "output_type": "stream",
     "text": [
      "epoch      trn_loss   val_loss                                \n",
      "    0      1.780601   0.292267  \n"
     ]
    },
    {
     "data": {
      "text/plain": [
       "[array([0.29227])]"
      ]
     },
     "execution_count": 15,
     "metadata": {},
     "output_type": "execute_result"
    }
   ],
   "source": [
    "model=char_loop(vocab_size,n_hidden,n_fac)\n",
    "opt=torch.optim.Adam(model.parameters())\n",
    "fit(model,md,1,opt,F.nll_loss)"
   ]
  },
  {
   "cell_type": "code",
   "execution_count": 116,
   "metadata": {
    "scrolled": true
   },
   "outputs": [
    {
     "data": {
      "application/vnd.jupyter.widget-view+json": {
       "model_id": "945ebf6aa61c457190da2aa265519158",
       "version_major": 2,
       "version_minor": 0
      },
      "text/plain": [
       "HBox(children=(IntProgress(value=0, description='Epoch', max=1), HTML(value='')))"
      ]
     },
     "metadata": {},
     "output_type": "display_data"
    },
    {
     "name": "stdout",
     "output_type": "stream",
     "text": [
      "epoch      trn_loss   val_loss                                \n",
      "    0      1.646296   0.129284  \n",
      "\n"
     ]
    },
    {
     "data": {
      "text/plain": [
       "[array([0.12928])]"
      ]
     },
     "execution_count": 116,
     "metadata": {},
     "output_type": "execute_result"
    }
   ],
   "source": [
    "set_lrs(opt,1e-3)\n",
    "fit(model,md,1,opt,F.nll_loss)"
   ]
  },
  {
   "cell_type": "code",
   "execution_count": 119,
   "metadata": {},
   "outputs": [],
   "source": [
    "def get_next(inp):\n",
    "    ex=[ V(T(chars_id[x])) for x in inp]\n",
    "    #char_id=np.argmax(to_np(model(ex[0],ex[1],ex[2],ex[3],ex[4],ex[5],ex[6])))\n",
    "    char_id=np.argmax(to_np(model(*ex)))\n",
    "    return id_chars[char_id]"
   ]
  },
  {
   "cell_type": "code",
   "execution_count": 123,
   "metadata": {},
   "outputs": [
    {
     "data": {
      "text/plain": [
       "'e'"
      ]
     },
     "execution_count": 123,
     "metadata": {},
     "output_type": "execute_result"
    }
   ],
   "source": [
    "get_next(\"youdf\")"
   ]
  },
  {
   "cell_type": "code",
   "execution_count": 23,
   "metadata": {},
   "outputs": [],
   "source": [
    "class char_concat_loop(nn.Module):\n",
    "    def __init__(self,vocab_size,n_hidden,n_fac):\n",
    "        super().__init__()\n",
    "        self.n_fac=n_fac\n",
    "        self.n_hidden=n_hidden\n",
    "        self.e=nn.Embedding(vocab_size,n_fac)\n",
    "        self.l_in=nn.Linear(n_hidden+n_fac,n_hidden)\n",
    "        self.l_hidden=nn.Linear(n_hidden,n_hidden)\n",
    "        self.l_out=nn.Linear(n_hidden,vocab_size)\n",
    "    \n",
    "    def forward(self,*cs):\n",
    "        bs = cs[0].size(0)\n",
    "        h = V(torch.zeros(bs, self.n_hidden))\n",
    "        for c in cs:\n",
    "            inp = torch.cat((h,self.e(c)),1)\n",
    "            inp= F.relu(self.l_in(inp))\n",
    "            h = F.tanh(self.l_hidden(inp))\n",
    "        \n",
    "        return F.log_softmax(self.l_out(h), dim=-1 )"
   ]
  },
  {
   "cell_type": "code",
   "execution_count": 35,
   "metadata": {},
   "outputs": [],
   "source": [
    "model=char_concat_loop(vocab_size,n_hidden,n_fac)"
   ]
  },
  {
   "cell_type": "code",
   "execution_count": 36,
   "metadata": {
    "scrolled": true
   },
   "outputs": [
    {
     "data": {
      "application/vnd.jupyter.widget-view+json": {
       "model_id": "b8a85f709b0b4e68b7f1f3b917d5f3c6",
       "version_major": 2,
       "version_minor": 0
      },
      "text/plain": [
       "HBox(children=(IntProgress(value=0, description='Epoch', max=1), HTML(value='')))"
      ]
     },
     "metadata": {},
     "output_type": "display_data"
    },
    {
     "name": "stdout",
     "output_type": "stream",
     "text": [
      "epoch      trn_loss   val_loss                                \n",
      "    0      1.767494   0.350444  \n"
     ]
    },
    {
     "data": {
      "text/plain": [
       "[array([0.35044])]"
      ]
     },
     "execution_count": 36,
     "metadata": {},
     "output_type": "execute_result"
    }
   ],
   "source": [
    "opt=torch.optim.Adam(model.parameters(),1e-3)\n",
    "fit(model,md,1,opt,F.nll_loss)"
   ]
  },
  {
   "cell_type": "code",
   "execution_count": 124,
   "metadata": {},
   "outputs": [
    {
     "data": {
      "text/plain": [
       "'i'"
      ]
     },
     "execution_count": 124,
     "metadata": {},
     "output_type": "execute_result"
    }
   ],
   "source": [
    "get_next(\"Th\")"
   ]
  },
  {
   "cell_type": "code",
   "execution_count": 107,
   "metadata": {},
   "outputs": [],
   "source": [
    "class CharRnn1(nn.Module):\n",
    "    def __init__(self,vocab_size,n_hidden,n_fac):\n",
    "        super().__init__()\n",
    "        self.e=nn.Embedding(vocab_size,n_fac)\n",
    "        self.rnn=nn.RNN(n_fac,n_hidden)\n",
    "        self.l_out=nn.Linear(n_hidden,vocab_size)\n",
    "    \n",
    "    def forward(self,*cs):\n",
    "        bs=cs[0].size(0)\n",
    "        h=V(torch.zeros(1,bs,n_hidden))\n",
    "        inp=self.e(torch.stack(cs))\n",
    "        outp,h=self.rnn(inp,h)\n",
    "        \n",
    "        return F.log_softmax(self.l_out(outp[-1]))"
   ]
  },
  {
   "cell_type": "code",
   "execution_count": 108,
   "metadata": {},
   "outputs": [],
   "source": [
    "m=CharRnn1(vocab_size,n_hidden,n_fac)\n",
    "opt=optim.Adam(m.parameters(),1e-3)"
   ]
  },
  {
   "cell_type": "code",
   "execution_count": 109,
   "metadata": {},
   "outputs": [
    {
     "data": {
      "application/vnd.jupyter.widget-view+json": {
       "model_id": "587bf1d55c714d478b529b128680733d",
       "version_major": 2,
       "version_minor": 0
      },
      "text/plain": [
       "HBox(children=(IntProgress(value=0, description='Epoch', max=1), HTML(value='')))"
      ]
     },
     "metadata": {},
     "output_type": "display_data"
    },
    {
     "name": "stdout",
     "output_type": "stream",
     "text": [
      "epoch      trn_loss   val_loss                                \n",
      "    0      1.798847   0.311293  \n"
     ]
    },
    {
     "data": {
      "text/plain": [
       "[array([0.31129])]"
      ]
     },
     "execution_count": 109,
     "metadata": {},
     "output_type": "execute_result"
    }
   ],
   "source": [
    "fit(m,md,1,opt,F.nll_loss)"
   ]
  },
  {
   "cell_type": "code",
   "execution_count": 211,
   "metadata": {},
   "outputs": [],
   "source": [
    "def get_next_n(inp,n):\n",
    "    txt=inp\n",
    "    for ix in range(n):\n",
    "        ex=[ V(T(chars_id[x])) for x in txt[ix:]]\n",
    "        char_id=np.argmax(to_np(model(*ex)))\n",
    "        txt = txt+id_chars[char_id]\n",
    "    return txt"
   ]
  },
  {
   "cell_type": "code",
   "execution_count": 234,
   "metadata": {},
   "outputs": [
    {
     "data": {
      "text/plain": [
       "'therreation a sight a stand and stand and stand and stand and stand and stand and stand and stand and stand and stand and stand and stand and stand and stand and stand and stand and stand and stand and stan'"
      ]
     },
     "execution_count": 234,
     "metadata": {},
     "output_type": "execute_result"
    }
   ],
   "source": [
    "get_next_n(\"therre\",200)"
   ]
  },
  {
   "cell_type": "code",
   "execution_count": 177,
   "metadata": {},
   "outputs": [],
   "source": [
    "class CharRnn(nn.Module):\n",
    "    def __init__(self,vocab_size,n_hidden,n_fac):\n",
    "        super().__init__()\n",
    "        self.e=nn.Embedding(vocab_size,n_fac)\n",
    "        self.rnn=nn.RNN(n_fac,n_hidden)\n",
    "        self.l_out=nn.Linear(n_hidden,vocab_size)\n",
    "    \n",
    "    def forward(self,*cs):\n",
    "        bs=cs[0].size(0)\n",
    "        h=V(torch.zeros(1,bs,n_hidden))\n",
    "        inp=self.e(torch.stack(cs))\n",
    "        out,h=self.rnn(inp,h)\n",
    "        return F.log_softmax(self.l_out(out[-1]))"
   ]
  },
  {
   "cell_type": "code",
   "execution_count": 178,
   "metadata": {},
   "outputs": [
    {
     "data": {
      "application/vnd.jupyter.widget-view+json": {
       "model_id": "633d75db36f94028ab4588e19ad5d7d1",
       "version_major": 2,
       "version_minor": 0
      },
      "text/plain": [
       "HBox(children=(IntProgress(value=0, description='Epoch', max=1), HTML(value='')))"
      ]
     },
     "metadata": {},
     "output_type": "display_data"
    },
    {
     "name": "stdout",
     "output_type": "stream",
     "text": [
      "epoch      trn_loss   val_loss                                \n",
      "    0      2.038243   0.964115  \n",
      "\n"
     ]
    },
    {
     "data": {
      "text/plain": [
       "[array([0.96412])]"
      ]
     },
     "execution_count": 178,
     "metadata": {},
     "output_type": "execute_result"
    }
   ],
   "source": [
    "model=CharRnn(vocab_size,n_hidden,n_fac)\n",
    "otp=torch.optim.Adam(model.parameters(),1e-2)\n",
    "fit(model,md,1,otp,F.nll_loss)"
   ]
  },
  {
   "cell_type": "code",
   "execution_count": 103,
   "metadata": {
    "scrolled": true
   },
   "outputs": [
    {
     "data": {
      "application/vnd.jupyter.widget-view+json": {
       "model_id": "8e0d06f9db0a420b99859cc5f750d8dc",
       "version_major": 2,
       "version_minor": 0
      },
      "text/plain": [
       "HBox(children=(IntProgress(value=0, description='Epoch', max=1), HTML(value='')))"
      ]
     },
     "metadata": {},
     "output_type": "display_data"
    },
    {
     "name": "stdout",
     "output_type": "stream",
     "text": [
      "epoch      trn_loss   val_loss                                \n",
      "    0      1.76661    0.249625  \n"
     ]
    },
    {
     "data": {
      "text/plain": [
       "[array([0.24963])]"
      ]
     },
     "execution_count": 103,
     "metadata": {},
     "output_type": "execute_result"
    }
   ],
   "source": [
    "set_lrs(opt,1e-3)\n",
    "fit(model,md,1,opt,F.nll_loss)"
   ]
  },
  {
   "cell_type": "code",
   "execution_count": 181,
   "metadata": {},
   "outputs": [
    {
     "data": {
      "text/plain": [
       "'the worg and in the preances of the preances of the preances of the preances of the preances of the preances of the preances of the preances of the preances of the preances of the preances of the preances of'"
      ]
     },
     "execution_count": 181,
     "metadata": {},
     "output_type": "execute_result"
    }
   ],
   "source": [
    "get_next_n(\"the wor\",200)"
   ]
  },
  {
   "cell_type": "markdown",
   "metadata": {},
   "source": [
    "# Multi output"
   ]
  },
  {
   "cell_type": "code",
   "execution_count": 198,
   "metadata": {},
   "outputs": [],
   "source": [
    "cs=10\n",
    "xs=np.array([idx[i:cs+i] for i in range(0,len(idx)-cs-1,cs)])\n",
    "ys=np.array([idx[i+1:1+cs+i] for i in range(0,len(idx)-cs,cs)])"
   ]
  },
  {
   "cell_type": "code",
   "execution_count": 200,
   "metadata": {},
   "outputs": [],
   "source": [
    "md=ColumnarModelData.from_arrays('.',get_cv_idxs(len(xs)),xs,ys,bs=512)"
   ]
  },
  {
   "cell_type": "code",
   "execution_count": 263,
   "metadata": {},
   "outputs": [],
   "source": [
    "class CharRnn_multi(nn.Module):\n",
    "    def __init__(self,vocab_size,n_hidden,n_fac):\n",
    "        super().__init__()\n",
    "        self.e=nn.Embedding(vocab_size,n_fac)\n",
    "        self.rnn=nn.RNN(n_fac,n_hidden)\n",
    "        self.l_out=nn.Linear(n_hidden,vocab_size)\n",
    "    \n",
    "    def forward(self,*cs):\n",
    "        bs=cs[0].size(0)\n",
    "        h=V(torch.zeros(1,bs,n_hidden))\n",
    "        inp=self.e(torch.stack(cs))\n",
    "        out,h=self.rnn(inp,h)\n",
    "        return F.log_softmax(self.l_out(out))"
   ]
  },
  {
   "cell_type": "code",
   "execution_count": 281,
   "metadata": {},
   "outputs": [],
   "source": [
    "m=CharRnn_multi(vocab_size,n_hidden,n_fac)\n",
    "opt=torch.optim.Adam(m.parameters(),1e-3)"
   ]
  },
  {
   "cell_type": "markdown",
   "metadata": {},
   "source": [
    "# init identity"
   ]
  },
  {
   "cell_type": "code",
   "execution_count": 282,
   "metadata": {
    "scrolled": true
   },
   "outputs": [
    {
     "data": {
      "text/plain": [
       "\n",
       "    1     0     0  ...      0     0     0\n",
       "    0     1     0  ...      0     0     0\n",
       "    0     0     1  ...      0     0     0\n",
       "       ...          ⋱          ...       \n",
       "    0     0     0  ...      1     0     0\n",
       "    0     0     0  ...      0     1     0\n",
       "    0     0     0  ...      0     0     1\n",
       "[torch.FloatTensor of size 256x256]"
      ]
     },
     "execution_count": 282,
     "metadata": {},
     "output_type": "execute_result"
    }
   ],
   "source": [
    "m.rnn.weight_hh_l0.data.copy_(torch.eye(n_hidden))"
   ]
  },
  {
   "cell_type": "code",
   "execution_count": 283,
   "metadata": {},
   "outputs": [],
   "source": [
    "def nll_seq(inp,tar):  #inp: (seq,bs,vocab_size) out : (bs,seq_len)\n",
    "    seq,bs,nh = inp.size()\n",
    "    tar= tar.transpose(0,1).contiguous().view(-1)\n",
    "    inp=inp.view(-1,nh)\n",
    "    return F.nll_loss(inp,tar)"
   ]
  },
  {
   "cell_type": "code",
   "execution_count": 287,
   "metadata": {},
   "outputs": [
    {
     "data": {
      "application/vnd.jupyter.widget-view+json": {
       "model_id": "11ad67741c5e4a72a73247b67d713396",
       "version_major": 2,
       "version_minor": 0
      },
      "text/plain": [
       "HBox(children=(IntProgress(value=0, description='Epoch', max=2), HTML(value='')))"
      ]
     },
     "metadata": {},
     "output_type": "display_data"
    },
    {
     "name": "stdout",
     "output_type": "stream",
     "text": [
      "epoch      trn_loss   val_loss                             \n",
      "    0      0.918315   0.901285  \n",
      "    1      0.861438   0.845668                             \n",
      "\n"
     ]
    },
    {
     "data": {
      "text/plain": [
       "[array([0.84567])]"
      ]
     },
     "execution_count": 287,
     "metadata": {},
     "output_type": "execute_result"
    }
   ],
   "source": [
    "fit(m,md,2,opt,nll_seq)"
   ]
  },
  {
   "cell_type": "code",
   "execution_count": 285,
   "metadata": {},
   "outputs": [],
   "source": [
    "def get_words(rn,n,inp):\n",
    "    txt=inp\n",
    "    for ix in range(0,n,cs):\n",
    "        inp=[chars_id[u] for u in txt[ix:ix+cs]]\n",
    "        if (len(inp)==0):\n",
    "            break\n",
    "        o=to_np(m(*V(T(inp)))).reshape(len(inp),85).argmax(axis=1)\n",
    "        for iy in o:\n",
    "            txt = txt + id_chars[iy]\n",
    "    return txt"
   ]
  },
  {
   "cell_type": "code",
   "execution_count": 286,
   "metadata": {},
   "outputs": [
    {
     "name": "stdout",
     "output_type": "stream",
     "text": [
      "omg i is awm.-i6Js\n",
      "alm.AMshe\n",
      "obviAsOhexarAizch=ExfriMzchaEdfrizc\"hatd?rizchSat!, izchaTty, (zchakly,\n",
      "(4Nhakly, \n"
     ]
    }
   ],
   "source": [
    "print (get_words(m,100,\"omg i is aw\"))"
   ]
  }
 ],
 "metadata": {
  "kernelspec": {
   "display_name": "Python 3",
   "language": "python",
   "name": "python3"
  },
  "language_info": {
   "codemirror_mode": {
    "name": "ipython",
    "version": 3
   },
   "file_extension": ".py",
   "mimetype": "text/x-python",
   "name": "python",
   "nbconvert_exporter": "python",
   "pygments_lexer": "ipython3",
   "version": "3.6.5"
  }
 },
 "nbformat": 4,
 "nbformat_minor": 2
}
